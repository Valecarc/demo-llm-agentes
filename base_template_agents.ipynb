{
  "nbformat": 4,
  "nbformat_minor": 0,
  "metadata": {
    "colab": {
      "provenance": [],
      "include_colab_link": true
    },
    "kernelspec": {
      "name": "python3",
      "display_name": "Python 3"
    },
    "language_info": {
      "name": "python"
    }
  },
  "cells": [
    {
      "cell_type": "markdown",
      "metadata": {
        "id": "view-in-github",
        "colab_type": "text"
      },
      "source": [
        "<a href=\"https://colab.research.google.com/github/Valecarc/demo-llm-agentes/blob/main/base_template_agents.ipynb\" target=\"_parent\"><img src=\"https://colab.research.google.com/assets/colab-badge.svg\" alt=\"Open In Colab\"/></a>"
      ]
    },
    {
      "cell_type": "code",
      "execution_count": null,
      "metadata": {
        "collapsed": true,
        "id": "N8N955vPhaTV"
      },
      "outputs": [],
      "source": [
        "!pip install --q crewai==0.28.8 crewai_tools==0.1.6 langchain_community==0.0.29 langchain_groq"
      ]
    },
    {
      "cell_type": "code",
      "source": [
        "from crewai import Agent, Task, Crew, Process\n",
        "from langchain_groq import ChatGroq\n",
        "from langchain_community.tools import Tool\n",
        "\n",
        "#Definir el modelo LLM:\n",
        "llm_llama=ChatGroq(temperature=0,\n",
        "             model_name=\"llama-3.1-70b-versatile\",\n",
        "             api_key='example-key-sgbfaueyrgaorjgoa')\n"
      ],
      "metadata": {
        "id": "58nyQsQDhhFP"
      },
      "execution_count": null,
      "outputs": []
    },
    {
      "cell_type": "code",
      "source": [
        "# Definir agentes\n",
        "A1 = Agent(\n",
        "    role=\"---\",\n",
        "    goal=\"---\",\n",
        "    backstory=\"---\",\n",
        "    llm=llm_llama\n",
        ")\n",
        "\n",
        "A2 = Agent(\n",
        "    role=\"---\",\n",
        "    goal=\"---\",\n",
        "    backstory=\"---\",\n",
        "    llm=llm_llama\n",
        ")\n",
        "\n",
        "A3 = Agent(\n",
        "    role=\"---\",\n",
        "    goal=\"---\",\n",
        "    backstory=\"---\",\n",
        "    llm=llm_llama\n",
        ")"
      ],
      "metadata": {
        "id": "4j9j7HsLkcii"
      },
      "execution_count": null,
      "outputs": []
    },
    {
      "cell_type": "code",
      "source": [
        "# Definir tareas\n",
        "tarea_A1 = Task(\n",
        "    description=( \" --- \" ),\n",
        "    agent=A1,\n",
        "    expected_output=\" --- \"\n",
        ")\n",
        "\n",
        "tarea_A2 = Task(\n",
        "    description=( \" --- \" ),\n",
        "    agent=A2,\n",
        "    expected_output=\" --- \"\n",
        ")\n",
        "\n",
        "tarea_A3 = Task(\n",
        "    description=( \" --- \" ),\n",
        "    agent=A3,\n",
        "    expected_output=\" --- \"\n",
        ")"
      ],
      "metadata": {
        "id": "jAXP14WVlb9Q"
      },
      "execution_count": null,
      "outputs": []
    },
    {
      "cell_type": "code",
      "source": [
        "# Crear crew / equipo\n",
        "crew = Crew(\n",
        "    agents=[A1, A2, A3],\n",
        "    tasks=[tarea_A1, tarea_A2, tarea_A3],\n",
        "    process=Process.sequential,\n",
        "    verbose=True\n",
        ")\n",
        "\n",
        "# Ejecucion Con variables de entrada :\n",
        "#resultado = crew.kickoff(inputs={\"variable\": \"valor_variable \"})\n",
        "\n",
        "# Ejecucion sin variables:\n",
        "resultado = crew.kickoff()\n",
        "print(resultado)\n"
      ],
      "metadata": {
        "id": "IbbhU4kPklDy"
      },
      "execution_count": null,
      "outputs": []
    },
    {
      "cell_type": "code",
      "source": [
        "# Con variables de entrada :\n",
        "#resultado = crew.kickoff(inputs={\"variable\": \"valor_variable \"})\n",
        "\n",
        "# sin variables:\n",
        "resultado = crew.kickoff()\n",
        "\n",
        "print(resultado)\n"
      ],
      "metadata": {
        "id": "HqfGYcwoCI_g"
      },
      "execution_count": null,
      "outputs": []
    }
  ]
}